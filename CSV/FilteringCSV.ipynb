{
 "cells": [
  {
   "cell_type": "code",
   "execution_count": 1,
   "id": "a0763566-aee9-4484-b710-1f2569b57bd2",
   "metadata": {},
   "outputs": [],
   "source": [
    "import pandas as pd"
   ]
  },
  {
   "cell_type": "code",
   "execution_count": 2,
   "id": "451cc61e-81c9-4dbf-a3df-1ae7cec9e3d1",
   "metadata": {},
   "outputs": [
    {
     "name": "stderr",
     "output_type": "stream",
     "text": [
      "C:\\Users\\elife\\anaconda3\\lib\\site-packages\\IPython\\core\\interactiveshell.py:3165: DtypeWarning: Columns (3) have mixed types.Specify dtype option on import or set low_memory=False.\n",
      "  has_raised = await self.run_ast_nodes(code_ast.body, cell_name,\n"
     ]
    }
   ],
   "source": [
    "frame = pd.read_csv(\"disneyRideTimes.csv\", parse_dates=[\"dateTime\"])"
   ]
  },
  {
   "cell_type": "code",
   "execution_count": 3,
   "id": "35165966-9f72-42c8-8bb8-1f39980d1c13",
   "metadata": {},
   "outputs": [
    {
     "data": {
      "text/plain": [
       "<bound method NDFrame.describe of            rideID            dateTime  waitMins fastPassTime     status\n",
       "22544      353291 2017-05-22 09:30:07       5.0          NaN  Operating\n",
       "22545      353291 2017-05-22 10:30:15      45.0          NaN  Operating\n",
       "22546      353291 2017-05-22 11:30:15      35.0          NaN  Operating\n",
       "22547      353291 2017-05-22 12:30:15      30.0          NaN  Operating\n",
       "22548      353291 2017-05-22 13:30:06      45.0          NaN  Operating\n",
       "...           ...                 ...       ...          ...        ...\n",
       "2354379  18774860 2017-10-31 19:00:12      75.0          NaN  Operating\n",
       "2354380  18774860 2017-10-31 19:30:05      75.0          NaN  Operating\n",
       "2354381  18774860 2017-10-31 20:00:12      55.0          NaN  Operating\n",
       "2354382  18774860 2017-10-31 20:30:04      55.0          NaN  Operating\n",
       "2354383  18774860 2017-10-31 21:00:12      55.0          NaN  Operating\n",
       "\n",
       "[668850 rows x 5 columns]>"
      ]
     },
     "execution_count": 3,
     "metadata": {},
     "output_type": "execute_result"
    }
   ],
   "source": [
    "valid = frame[~frame[\"waitMins\"].isnull()]\n",
    "valid.describe"
   ]
  },
  {
   "cell_type": "code",
   "execution_count": 4,
   "id": "57b3a1c7-cc14-4e5b-9d3a-aa964327c8a7",
   "metadata": {},
   "outputs": [
    {
     "name": "stdout",
     "output_type": "stream",
     "text": [
      "66\n"
     ]
    }
   ],
   "source": [
    "print(valid[\"rideID\"].nunique())"
   ]
  },
  {
   "cell_type": "code",
   "execution_count": 5,
   "id": "348c04b1-c5ea-432e-86ef-5db5445a9798",
   "metadata": {},
   "outputs": [
    {
     "name": "stdout",
     "output_type": "stream",
     "text": [
      "110\n"
     ]
    }
   ],
   "source": [
    "print(frame[\"rideID\"].nunique())"
   ]
  },
  {
   "cell_type": "code",
   "execution_count": 6,
   "id": "1b8210df-30f0-4fd4-bbf0-97ea9e7b9df1",
   "metadata": {},
   "outputs": [
    {
     "data": {
      "text/plain": [
       "<bound method NDFrame.describe of           id  parkID                                               name  \\\n",
       "0     353291  330339                                      Astro Orbitor   \n",
       "1     353293  330339                                            Autopia   \n",
       "2     353295  330339                      Big Thunder Mountain Railroad   \n",
       "3     353301  330339                     Buzz Lightyear Astro Blasters    \n",
       "4     353323  330339                          Dumbo the Flying Elephant   \n",
       "5     353325  330339                                Enchanted Tiki Room   \n",
       "6     353327  330339                      Finding Nemo Submarine Voyage   \n",
       "7     353335  330339                   Frontierland Shootin' Exposition   \n",
       "8     353337  330339                                Gadget's Go Coaster   \n",
       "9     353347  330339                                    Haunted Mansion   \n",
       "10    353355  330339                           Indiana Jones Adventure    \n",
       "11    353363  330339                                      Jungle Cruise   \n",
       "12    353365  330339                              King Arthur Carrousel   \n",
       "13    353377  330339                                Matterhorn Bobsleds   \n",
       "14    353389  330339                              Mr. Toad's Wild Ride    \n",
       "15    353399  330339                                Peter Pan's Flight    \n",
       "16    353401  330339                         Pinocchio's Daring Journey   \n",
       "17    353405  330339                          Pirates of the Caribbean    \n",
       "18    353421  330339                       Roger Rabbit's Car Toon Spin   \n",
       "19    353427  330339                 Sleeping Beauty Castle Walkthrough   \n",
       "20    353429  330339                      Snow White's Scary Adventures   \n",
       "21    353437  330339                                    Splash Mountain   \n",
       "22    353439  330339               Star Tours - The Adventures Continue   \n",
       "23    353449  330339             The Many Adventures of Winnie the Pooh   \n",
       "24    353461  330339  The Disneyland Story presenting Great Moments ...   \n",
       "25    367492  330339                                 it's a small world   \n",
       "26    367495  330339                                Alice in Wonderland   \n",
       "27  16204726  330339                                         Fantasmic!   \n",
       "28  18237343  330339                               Star Wars Launch Bay   \n",
       "29  18237368  330339                                     Space Mountain   \n",
       "30  18243993  330339                        Star Wars: Path of the Jedi   \n",
       "\n",
       "                   land  height  \n",
       "0          Tomorrowland     NaN  \n",
       "1          Tomorrowland    32.0  \n",
       "2          Frontierland    40.0  \n",
       "3          Tomorrowland     NaN  \n",
       "4           Fantasyland     NaN  \n",
       "5         Adventureland     NaN  \n",
       "6          Tomorrowland     NaN  \n",
       "7          Frontierland     NaN  \n",
       "8     Mickey's Toontown    35.0  \n",
       "9    New Orleans Square     NaN  \n",
       "10        Adventureland    46.0  \n",
       "11        Adventureland     NaN  \n",
       "12          Fantasyland     NaN  \n",
       "13          Fantasyland    42.0  \n",
       "14          Fantasyland     NaN  \n",
       "15          Fantasyland     NaN  \n",
       "16          Fantasyland     NaN  \n",
       "17   New Orleans Square     NaN  \n",
       "18    Mickey's Toontown     NaN  \n",
       "19          Fantasyland     NaN  \n",
       "20          Fantasyland     NaN  \n",
       "21      Critter Country    40.0  \n",
       "22         Tomorrowland    40.0  \n",
       "23      Critter Country     NaN  \n",
       "24  Main Street, U.S.A.     NaN  \n",
       "25          Fantasyland     NaN  \n",
       "26          Fantasyland     NaN  \n",
       "27                  NaN     NaN  \n",
       "28         Tomorrowland     NaN  \n",
       "29         Tomorrowland    40.0  \n",
       "30         Tomorrowland     NaN  >"
      ]
     },
     "execution_count": 6,
     "metadata": {},
     "output_type": "execute_result"
    }
   ],
   "source": [
    "rides = pd.read_csv(\"rides.csv\")\n",
    "rides.describe"
   ]
  },
  {
   "cell_type": "code",
   "execution_count": 7,
   "id": "d13c15d4-0bd5-46b0-8b4a-11e38c781437",
   "metadata": {},
   "outputs": [],
   "source": [
    "specifiedRides = valid[valid.rideID.isin(rides[\"id\"].unique())]"
   ]
  },
  {
   "cell_type": "code",
   "execution_count": 8,
   "id": "07a8a9b3-9ec9-42a4-9558-c8a0693d82ef",
   "metadata": {},
   "outputs": [
    {
     "name": "stdout",
     "output_type": "stream",
     "text": [
      "[  353291   353293   353295   353301   353323   353325   353327   353337\n",
      "   353347   353355   353363   353365   353377   353389   353399   353401\n",
      "   353405   353421   353429   353437   353439   353449   367492   367495\n",
      " 18237343 18243993]\n"
     ]
    }
   ],
   "source": [
    "print(specifiedRides[\"rideID\"].unique())"
   ]
  },
  {
   "cell_type": "code",
   "execution_count": 9,
   "id": "8f5d24d8-ec60-454b-900e-3a379fcfd57e",
   "metadata": {},
   "outputs": [],
   "source": [
    "newRide = rides[rides.id.isin(specifiedRides[\"rideID\"].unique())]"
   ]
  },
  {
   "cell_type": "code",
   "execution_count": 12,
   "id": "f1cdc5ca-5e72-46fb-9de8-e02e78ed56e9",
   "metadata": {},
   "outputs": [
    {
     "name": "stdout",
     "output_type": "stream",
     "text": [
      "          id  parkID                                    name  \\\n",
      "0     353291  330339                           Astro Orbitor   \n",
      "1     353293  330339                                 Autopia   \n",
      "2     353295  330339           Big Thunder Mountain Railroad   \n",
      "3     353301  330339          Buzz Lightyear Astro Blasters    \n",
      "4     353323  330339               Dumbo the Flying Elephant   \n",
      "5     353325  330339                     Enchanted Tiki Room   \n",
      "6     353327  330339           Finding Nemo Submarine Voyage   \n",
      "8     353337  330339                     Gadget's Go Coaster   \n",
      "9     353347  330339                         Haunted Mansion   \n",
      "10    353355  330339                Indiana Jones Adventure    \n",
      "11    353363  330339                           Jungle Cruise   \n",
      "12    353365  330339                   King Arthur Carrousel   \n",
      "13    353377  330339                     Matterhorn Bobsleds   \n",
      "14    353389  330339                   Mr. Toad's Wild Ride    \n",
      "15    353399  330339                     Peter Pan's Flight    \n",
      "16    353401  330339              Pinocchio's Daring Journey   \n",
      "17    353405  330339               Pirates of the Caribbean    \n",
      "18    353421  330339            Roger Rabbit's Car Toon Spin   \n",
      "20    353429  330339           Snow White's Scary Adventures   \n",
      "21    353437  330339                         Splash Mountain   \n",
      "22    353439  330339    Star Tours - The Adventures Continue   \n",
      "23    353449  330339  The Many Adventures of Winnie the Pooh   \n",
      "25    367492  330339                      it's a small world   \n",
      "26    367495  330339                     Alice in Wonderland   \n",
      "28  18237343  330339                    Star Wars Launch Bay   \n",
      "30  18243993  330339             Star Wars: Path of the Jedi   \n",
      "\n",
      "                  land  height  \n",
      "0         Tomorrowland     NaN  \n",
      "1         Tomorrowland    32.0  \n",
      "2         Frontierland    40.0  \n",
      "3         Tomorrowland     NaN  \n",
      "4          Fantasyland     NaN  \n",
      "5        Adventureland     NaN  \n",
      "6         Tomorrowland     NaN  \n",
      "8    Mickey's Toontown    35.0  \n",
      "9   New Orleans Square     NaN  \n",
      "10       Adventureland    46.0  \n",
      "11       Adventureland     NaN  \n",
      "12         Fantasyland     NaN  \n",
      "13         Fantasyland    42.0  \n",
      "14         Fantasyland     NaN  \n",
      "15         Fantasyland     NaN  \n",
      "16         Fantasyland     NaN  \n",
      "17  New Orleans Square     NaN  \n",
      "18   Mickey's Toontown     NaN  \n",
      "20         Fantasyland     NaN  \n",
      "21     Critter Country    40.0  \n",
      "22        Tomorrowland    40.0  \n",
      "23     Critter Country     NaN  \n",
      "25         Fantasyland     NaN  \n",
      "26         Fantasyland     NaN  \n",
      "28        Tomorrowland     NaN  \n",
      "30        Tomorrowland     NaN  \n",
      "          id  parkID                                               name  \\\n",
      "0     353291  330339                                      Astro Orbitor   \n",
      "1     353293  330339                                            Autopia   \n",
      "2     353295  330339                      Big Thunder Mountain Railroad   \n",
      "3     353301  330339                     Buzz Lightyear Astro Blasters    \n",
      "4     353323  330339                          Dumbo the Flying Elephant   \n",
      "5     353325  330339                                Enchanted Tiki Room   \n",
      "6     353327  330339                      Finding Nemo Submarine Voyage   \n",
      "7     353335  330339                   Frontierland Shootin' Exposition   \n",
      "8     353337  330339                                Gadget's Go Coaster   \n",
      "9     353347  330339                                    Haunted Mansion   \n",
      "10    353355  330339                           Indiana Jones Adventure    \n",
      "11    353363  330339                                      Jungle Cruise   \n",
      "12    353365  330339                              King Arthur Carrousel   \n",
      "13    353377  330339                                Matterhorn Bobsleds   \n",
      "14    353389  330339                              Mr. Toad's Wild Ride    \n",
      "15    353399  330339                                Peter Pan's Flight    \n",
      "16    353401  330339                         Pinocchio's Daring Journey   \n",
      "17    353405  330339                          Pirates of the Caribbean    \n",
      "18    353421  330339                       Roger Rabbit's Car Toon Spin   \n",
      "19    353427  330339                 Sleeping Beauty Castle Walkthrough   \n",
      "20    353429  330339                      Snow White's Scary Adventures   \n",
      "21    353437  330339                                    Splash Mountain   \n",
      "22    353439  330339               Star Tours - The Adventures Continue   \n",
      "23    353449  330339             The Many Adventures of Winnie the Pooh   \n",
      "24    353461  330339  The Disneyland Story presenting Great Moments ...   \n",
      "25    367492  330339                                 it's a small world   \n",
      "26    367495  330339                                Alice in Wonderland   \n",
      "27  16204726  330339                                         Fantasmic!   \n",
      "28  18237343  330339                               Star Wars Launch Bay   \n",
      "29  18237368  330339                                     Space Mountain   \n",
      "30  18243993  330339                        Star Wars: Path of the Jedi   \n",
      "\n",
      "                   land  height  \n",
      "0          Tomorrowland     NaN  \n",
      "1          Tomorrowland    32.0  \n",
      "2          Frontierland    40.0  \n",
      "3          Tomorrowland     NaN  \n",
      "4           Fantasyland     NaN  \n",
      "5         Adventureland     NaN  \n",
      "6          Tomorrowland     NaN  \n",
      "7          Frontierland     NaN  \n",
      "8     Mickey's Toontown    35.0  \n",
      "9    New Orleans Square     NaN  \n",
      "10        Adventureland    46.0  \n",
      "11        Adventureland     NaN  \n",
      "12          Fantasyland     NaN  \n",
      "13          Fantasyland    42.0  \n",
      "14          Fantasyland     NaN  \n",
      "15          Fantasyland     NaN  \n",
      "16          Fantasyland     NaN  \n",
      "17   New Orleans Square     NaN  \n",
      "18    Mickey's Toontown     NaN  \n",
      "19          Fantasyland     NaN  \n",
      "20          Fantasyland     NaN  \n",
      "21      Critter Country    40.0  \n",
      "22         Tomorrowland    40.0  \n",
      "23      Critter Country     NaN  \n",
      "24  Main Street, U.S.A.     NaN  \n",
      "25          Fantasyland     NaN  \n",
      "26          Fantasyland     NaN  \n",
      "27                  NaN     NaN  \n",
      "28         Tomorrowland     NaN  \n",
      "29         Tomorrowland    40.0  \n",
      "30         Tomorrowland     NaN  \n"
     ]
    }
   ],
   "source": [
    "print(newRide)\n",
    "print(rides)"
   ]
  },
  {
   "cell_type": "code",
   "execution_count": null,
   "id": "a94bdc46-17c3-413b-98c1-533ba004ea13",
   "metadata": {},
   "outputs": [],
   "source": [
    "print(specifiedRides['status'].unique())\n",
    "specifiedRides = specifiedRides[specifiedRides['status'] == 'Operating']\n",
    "specifiedRides = specifiedRides.drop([\"fastPassTime\", \"status\"], axis = 1)\n",
    "specifiedRides.describe"
   ]
  },
  {
   "cell_type": "code",
   "execution_count": 54,
   "id": "a4a5c633-e0b2-4342-833e-76bb09b2d363",
   "metadata": {},
   "outputs": [],
   "source": [
    "# specifiedRides.to_csv(\"validRideData.csv\")"
   ]
  },
  {
   "cell_type": "code",
   "execution_count": null,
   "id": "f4621016-47bb-46b1-9f30-4b41aa1cc7d1",
   "metadata": {},
   "outputs": [],
   "source": []
  }
 ],
 "metadata": {
  "kernelspec": {
   "display_name": "Python 3",
   "language": "python",
   "name": "python3"
  },
  "language_info": {
   "codemirror_mode": {
    "name": "ipython",
    "version": 3
   },
   "file_extension": ".py",
   "mimetype": "text/x-python",
   "name": "python",
   "nbconvert_exporter": "python",
   "pygments_lexer": "ipython3",
   "version": "3.8.8"
  }
 },
 "nbformat": 4,
 "nbformat_minor": 5
}
