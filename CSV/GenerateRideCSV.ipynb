{
 "cells": [
  {
   "cell_type": "code",
   "execution_count": 1,
   "id": "008e3cb7-c318-4de3-8bef-9095d199be75",
   "metadata": {},
   "outputs": [],
   "source": [
    "import pandas as pd"
   ]
  },
  {
   "cell_type": "code",
   "execution_count": 26,
   "id": "313ab720-8117-4407-87f6-33838403b53f",
   "metadata": {},
   "outputs": [],
   "source": [
    "CSVN = \"Winter.csv\"\n",
    "Season = pd.read_csv(CSVN, parse_dates=[\"dateTime\"])"
   ]
  },
  {
   "cell_type": "code",
   "execution_count": 27,
   "id": "89fba3ce-82df-4f90-86d1-5c6d6ae6a853",
   "metadata": {},
   "outputs": [
    {
     "name": "stdout",
     "output_type": "stream",
     "text": [
      "<bound method NDFrame.describe of        rideID            dateTime  waitMins\n",
      "0      353291 2017-12-01 09:30:00         5\n",
      "1      353291 2017-12-01 10:00:00        10\n",
      "2      353291 2017-12-01 10:30:00        15\n",
      "3      353291 2017-12-01 11:00:00        15\n",
      "4      353291 2017-12-01 11:30:00        15\n",
      "...       ...                 ...       ...\n",
      "56621  367495 2018-02-28 18:00:00        30\n",
      "56622  367495 2018-02-28 18:30:00        25\n",
      "56623  367495 2018-02-28 19:00:00        25\n",
      "56624  367495 2018-02-28 19:30:00        25\n",
      "56625  367495 2018-02-28 20:00:00        25\n",
      "\n",
      "[56626 rows x 3 columns]>\n",
      "<bound method NDFrame.describe of        rideID            dateTime  waitMins\n",
      "0      353291 2017-12-01 09:30:00         5\n",
      "1      353291 2017-12-01 10:00:00        10\n",
      "2      353291 2017-12-01 10:30:00        15\n",
      "3      353291 2017-12-01 11:00:00        15\n",
      "4      353291 2017-12-01 11:30:00        15\n",
      "...       ...                 ...       ...\n",
      "56621  367495 2018-02-28 18:00:00        30\n",
      "56622  367495 2018-02-28 18:30:00        25\n",
      "56623  367495 2018-02-28 19:00:00        25\n",
      "56624  367495 2018-02-28 19:30:00        25\n",
      "56625  367495 2018-02-28 20:00:00        25\n",
      "\n",
      "[56626 rows x 3 columns]>\n"
     ]
    }
   ],
   "source": [
    "print(Season[~Season.isnull()].describe)\n",
    "print(Season.describe)"
   ]
  },
  {
   "cell_type": "code",
   "execution_count": 28,
   "id": "1e59351a-5607-4e74-a5bb-82341f80a1f1",
   "metadata": {},
   "outputs": [
    {
     "name": "stdout",
     "output_type": "stream",
     "text": [
      "9\n",
      "[ 9 10 11 12 13 14 15 16 17 18 19 20 21 22 23  0  7  8  1  2]\n"
     ]
    }
   ],
   "source": [
    "test = Season[Season['rideID'] == 353291]\n",
    "testCell = test[test['dateTime'].dt.hour == 0]\n",
    "testCell = testCell[testCell['dateTime'].dt.minute < 30]\n",
    "print(round(testCell['waitMins'].mean()))\n",
    "print(test['dateTime'].dt.hour.unique())"
   ]
  },
  {
   "cell_type": "code",
   "execution_count": 29,
   "id": "60f6d57f-e039-4d1e-90cc-407788b0ac86",
   "metadata": {},
   "outputs": [],
   "source": [
    "SeasonOutput = pd.DataFrame(columns=['rideID', 'dateTime', 'waitMins'])"
   ]
  },
  {
   "cell_type": "code",
   "execution_count": 30,
   "id": "c5a97717-3a34-4235-8eaa-aa81446e6ab1",
   "metadata": {},
   "outputs": [],
   "source": [
    "for rides in Season['rideID'].unique():\n",
    "    rideFrame = Season[(Season['rideID'] == rides)]\n",
    "    for times in rideFrame['dateTime'].dt.hour.unique():\n",
    "        rideTimeFrame = rideFrame[rideFrame['dateTime'].dt.hour == times]\n",
    "        First30 = rideTimeFrame[rideTimeFrame['dateTime'].dt.minute < 30]\n",
    "        Last30 = rideTimeFrame[rideTimeFrame['dateTime'].dt.minute >= 30]\n",
    "        mean1, mean2 = 0, 0\n",
    "        if not First30.empty:\n",
    "            mean1 = round(First30['waitMins'].mean())\n",
    "        if not Last30.empty:\n",
    "            mean2 = round(Last30['waitMins'].mean())\n",
    "        rows = pd.DataFrame([[rides, str(times)+\":00\", mean1],[rides, str(times)+\":30\", mean2]], columns=['rideID', 'dateTime', 'waitMins'])\n",
    "        SeasonOutput = SeasonOutput.append(rows)"
   ]
  },
  {
   "cell_type": "code",
   "execution_count": 31,
   "id": "a5173845-7412-4c9d-9c4a-616559db13e1",
   "metadata": {},
   "outputs": [
    {
     "name": "stdout",
     "output_type": "stream",
     "text": [
      "    rideID dateTime waitMins\n",
      "0   353291     9:00        7\n",
      "1   353291     9:30       12\n",
      "0   353291    10:00       15\n",
      "1   353291    10:30       21\n",
      "0   353291    11:00       25\n",
      "..     ...      ...      ...\n",
      "1   367495     8:30       15\n",
      "0   367495     1:00       24\n",
      "1   367495     1:30       45\n",
      "0   367495     2:00       15\n",
      "1   367495     2:30        0\n",
      "\n",
      "[938 rows x 3 columns]\n",
      "24\n"
     ]
    }
   ],
   "source": [
    "print(SeasonOutput)\n",
    "print(SeasonOutput['rideID'].nunique())"
   ]
  },
  {
   "cell_type": "code",
   "execution_count": 32,
   "id": "735b77dc-0d02-421b-a564-61aab05c81a2",
   "metadata": {},
   "outputs": [],
   "source": [
    "SeasonOutput.to_csv(\"RideTimes\"+CSVN,index=False)"
   ]
  },
  {
   "cell_type": "code",
   "execution_count": null,
   "id": "aaf9d1d4-9935-4360-99af-346f7e57d427",
   "metadata": {},
   "outputs": [],
   "source": []
  }
 ],
 "metadata": {
  "kernelspec": {
   "display_name": "Python 3",
   "language": "python",
   "name": "python3"
  },
  "language_info": {
   "codemirror_mode": {
    "name": "ipython",
    "version": 3
   },
   "file_extension": ".py",
   "mimetype": "text/x-python",
   "name": "python",
   "nbconvert_exporter": "python",
   "pygments_lexer": "ipython3",
   "version": "3.8.8"
  }
 },
 "nbformat": 4,
 "nbformat_minor": 5
}
