{
 "cells": [
  {
   "cell_type": "code",
   "execution_count": 30,
   "id": "e234b6d4-0ad8-43da-8dcc-3a55d8a7b148",
   "metadata": {},
   "outputs": [],
   "source": [
    "import pandas as pd"
   ]
  },
  {
   "cell_type": "code",
   "execution_count": 31,
   "id": "d94f4e02-46bf-4215-ac82-60f61c2aa7a4",
   "metadata": {},
   "outputs": [],
   "source": [
    "ride = pd.read_csv(\"validRideData.csv\",parse_dates=[\"dateTime\"], index_col=False)"
   ]
  },
  {
   "cell_type": "code",
   "execution_count": 32,
   "id": "e6436693-e69f-468b-a776-d72ac7137807",
   "metadata": {},
   "outputs": [
    {
     "data": {
      "text/plain": [
       "<bound method NDFrame.describe of           rideID            dateTime  waitMins\n",
       "0         353291 2017-05-22 09:30:00         5\n",
       "1         353291 2017-05-22 10:30:00        45\n",
       "2         353291 2017-05-22 11:30:00        35\n",
       "3         353291 2017-05-22 12:30:00        30\n",
       "4         353291 2017-05-22 13:30:00        45\n",
       "...          ...                 ...       ...\n",
       "323262  18243993 2018-05-27 21:00:00         5\n",
       "323263  18243993 2018-05-27 21:30:00         5\n",
       "323264  18243993 2018-05-27 22:00:00         5\n",
       "323265  18243993 2018-05-27 22:30:00         5\n",
       "323266  18243993 2018-05-27 23:00:00         5\n",
       "\n",
       "[106027 rows x 3 columns]>"
      ]
     },
     "execution_count": 32,
     "metadata": {},
     "output_type": "execute_result"
    }
   ],
   "source": [
    "Spring = ride[(ride[\"dateTime\"].dt.month >= 3) & (ride[\"dateTime\"].dt.month <= 6)]\n",
    "Summer = ride[(ride[\"dateTime\"].dt.month >= 6) & (ride[\"dateTime\"].dt.month <= 9)]\n",
    "Fall = ride[(ride[\"dateTime\"].dt.month >= 9) & (ride[\"dateTime\"].dt.month <= 11)]\n",
    "Winter = ride[(ride[\"dateTime\"].dt.month >= 12) | (ride[\"dateTime\"].dt.month <= 2)]\n",
    "Spring.describe"
   ]
  },
  {
   "cell_type": "code",
   "execution_count": 36,
   "id": "5e1102af-57a2-4f74-be25-6e866312d755",
   "metadata": {},
   "outputs": [],
   "source": [
    "# Spring = Spring.drop(\", axis=1)\n",
    "# Summer = Summer.drop(Summer.columns[0], axis=1)\n",
    "# Fall = Fall.drop(Fall.columns[0], axis=1)\n",
    "# Winter = Winter.drop(Winter.columns[0], axis=1)\n",
    "Spring.to_csv(\"Spring.csv\", index=False)\n",
    "Summer.to_csv(\"Summer.csv\",index=False)\n",
    "Fall.to_csv(\"Fall.csv\",index=False)\n",
    "Winter.to_csv(\"Winter.csv\",index=False)"
   ]
  },
  {
   "cell_type": "code",
   "execution_count": 34,
   "id": "852dcee8-6437-44d3-a261-6893ab5d25d5",
   "metadata": {},
   "outputs": [
    {
     "name": "stdout",
     "output_type": "stream",
     "text": [
      "0           353291\n",
      "1           353291\n",
      "2           353291\n",
      "3           353291\n",
      "4           353291\n",
      "            ...   \n",
      "323262    18243993\n",
      "323263    18243993\n",
      "323264    18243993\n",
      "323265    18243993\n",
      "323266    18243993\n",
      "Name: rideID, Length: 106027, dtype: int64\n"
     ]
    }
   ],
   "source": [
    "print(Spring[Spring.columns[0]])"
   ]
  },
  {
   "cell_type": "code",
   "execution_count": 35,
   "id": "fcfd2422-198d-45c3-a439-7a5d5f50be19",
   "metadata": {},
   "outputs": [
    {
     "data": {
      "text/plain": [
       "<bound method NDFrame.describe of           rideID            dateTime  waitMins\n",
       "0         353291 2017-05-22 09:30:00         5\n",
       "1         353291 2017-05-22 10:30:00        45\n",
       "2         353291 2017-05-22 11:30:00        35\n",
       "3         353291 2017-05-22 12:30:00        30\n",
       "4         353291 2017-05-22 13:30:00        45\n",
       "...          ...                 ...       ...\n",
       "323262  18243993 2018-05-27 21:00:00         5\n",
       "323263  18243993 2018-05-27 21:30:00         5\n",
       "323264  18243993 2018-05-27 22:00:00         5\n",
       "323265  18243993 2018-05-27 22:30:00         5\n",
       "323266  18243993 2018-05-27 23:00:00         5\n",
       "\n",
       "[106027 rows x 3 columns]>"
      ]
     },
     "execution_count": 35,
     "metadata": {},
     "output_type": "execute_result"
    }
   ],
   "source": [
    "Spring.describe"
   ]
  },
  {
   "cell_type": "code",
   "execution_count": null,
   "id": "109a2a91-2b85-4ab7-bc8e-ba766e225e25",
   "metadata": {},
   "outputs": [],
   "source": []
  }
 ],
 "metadata": {
  "kernelspec": {
   "display_name": "Python 3",
   "language": "python",
   "name": "python3"
  },
  "language_info": {
   "codemirror_mode": {
    "name": "ipython",
    "version": 3
   },
   "file_extension": ".py",
   "mimetype": "text/x-python",
   "name": "python",
   "nbconvert_exporter": "python",
   "pygments_lexer": "ipython3",
   "version": "3.8.8"
  }
 },
 "nbformat": 4,
 "nbformat_minor": 5
}
